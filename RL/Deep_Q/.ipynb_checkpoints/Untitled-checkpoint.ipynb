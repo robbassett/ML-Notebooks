{
 "cells": [
  {
   "cell_type": "markdown",
   "metadata": {},
   "source": [
    "# <center> Deep Q Learning </center>\n",
    "\n",
    "In the previous notebook we looked at the basics of Q-learning employed in environments with discrete action and observation spaces. For real world problems this is not necessarily the case, thus simply constructing a Q-table and updating it with the Bellman Equation is not viable. In this notebook we are going to explore deep Q-learning in environments with continuous observation spaces (the action space is still discrete). \n",
    "\n",
    "## <center> OpenAI Gym's CartPole Environment </center>\n",
    "\n",
    "<img src=\"openaigym.svg\" width=200 />\n",
    "\n",
    "We'll again be using environments from OpenAI Gym, but this time from the \"classic control\" set. In particular we will create a deep Q-learning agent to perform in the CartPole environment. This is a 2D environment in which a pole is balanced atop a movable cart, and the goal is to prevent the pole from falling over. There are two ways to fail: first if the pole leans over beyond an angle of 15 degrees (from the vertical) or the cart moves more than 2.4 \"units\" from the center of the environment. At each timestep, the agent must choose whether or move the cart either left or right or to do nothing; an action space of size 3. The maximum number of steps is fixed at 500, thus, a successful CartPole agent should be able to complete 500 steps without triggering one of these failure conditions. Lets have a first look at the environment:"
   ]
  },
  {
   "cell_type": "code",
   "execution_count": 2,
   "metadata": {},
   "outputs": [
    {
     "data": {
      "text/plain": [
       "array([-0.04253043, -0.02087308, -0.02049322,  0.0488013 ])"
      ]
     },
     "execution_count": 2,
     "metadata": {},
     "output_type": "execute_result"
    }
   ],
   "source": [
    "import gym\n",
    "\n",
    "env = gym.make('CartPole-v1')\n",
    "env.reset()"
   ]
  },
  {
   "cell_type": "code",
   "execution_count": null,
   "metadata": {},
   "outputs": [],
   "source": []
  }
 ],
 "metadata": {
  "kernelspec": {
   "display_name": "Python 3",
   "language": "python",
   "name": "python3"
  },
  "language_info": {
   "codemirror_mode": {
    "name": "ipython",
    "version": 3
   },
   "file_extension": ".py",
   "mimetype": "text/x-python",
   "name": "python",
   "nbconvert_exporter": "python",
   "pygments_lexer": "ipython3",
   "version": "3.6.12"
  }
 },
 "nbformat": 4,
 "nbformat_minor": 4
}
