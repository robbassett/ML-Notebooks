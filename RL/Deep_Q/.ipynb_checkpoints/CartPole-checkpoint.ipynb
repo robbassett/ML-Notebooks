{
 "cells": [
  {
   "cell_type": "markdown",
   "metadata": {},
   "source": [
    "# <center> Deep Q Learning </center>\n",
    "\n",
    "In the previous notebook we looked at the basics of Q-learning employed in environments with discrete action and observation spaces. For real world problems this is not necessarily the case, thus simply constructing a Q-table and updating it with the Bellman Equation is not viable. In this notebook we are going to explore deep Q-learning in environments with continuous observation spaces (the action space is still discrete). \n",
    "\n",
    "## <center> OpenAI Gym's CartPole Environment </center>\n",
    "\n",
    "<img src=\"openaigym.svg\" width=200 />\n",
    "\n",
    "We'll again be using environments from OpenAI Gym, but this time from the \"classic control\" set. In particular we will create a deep Q-learning agent to perform in the CartPole environment. This is a 2D environment in which a pole is balanced atop a movable cart, and the goal is to prevent the pole from falling over. There are two ways to fail: first if the pole leans over beyond an angle of 15 degrees (from the vertical) or the cart moves more than 2.4 \"units\" from the center of the environment. At each timestep, the agent must choose whether or move the cart either left or right or to do nothing; an action space of size 3. The maximum number of steps is fixed at 500, thus, a successful CartPole agent should be able to complete 500 steps without triggering one of these failure conditions. Lets have a first look at the environment:"
   ]
  },
  {
   "cell_type": "code",
   "execution_count": 2,
   "metadata": {},
   "outputs": [
    {
     "name": "stdout",
     "output_type": "stream",
     "text": [
      "[-0.03875146  0.03335326 -0.01446357 -0.04827759]\n"
     ]
    },
    {
     "data": {
      "image/png": "[encoded data removed]",
      "text/plain": [
       "<Figure size 432x288 with 1 Axes>"
      ]
     },
     "metadata": {
      "needs_background": "light"
     },
     "output_type": "display_data"
    }
   ],
   "source": [
    "import gym\n",
    "import matplotlib.pyplot as plt\n",
    "\n",
    "env = gym.make('CartPole-v0')\n",
    "state = env.reset()\n",
    "plt.imshow(env.render(mode='rgb_array'))\n",
    "print(state)"
   ]
  },
  {
   "cell_type": "markdown",
   "metadata": {},
   "source": [
    "Here the pole is the brown thing and the cart is the black thing which moves along the track represented by the grey line. We also see that the state of the environment is represented by four continuous values that represent the cart position, cart velocity, pole angle, and pole angular velocity. Our goal will be to create an agent that can take in these four values as an input and determine the optimal action to keep the pole upright. \n",
    "\n",
    "For this task, we are going to employ an artificial neural network (NN) using the keras package. First let's simply try creating a simple linear NN classifier with a single hidden layer of 64 neurons:"
   ]
  },
  {
   "cell_type": "code",
   "execution_count": 3,
   "metadata": {},
   "outputs": [],
   "source": [
    "import tensorflow as tf\n",
    "from tensorflow import keras\n",
    "from tensorflow.keras import layers\n",
    "import numpy as np\n",
    "\n",
    "# We'll create a Neural Network as a class that will be a part of our agent class later\n",
    "class LinearClassifier():\n",
    "    \n",
    "    # The arguments required will be the learning rate, the number\n",
    "    # of actions (3 possible for CartPole), and the dimensions of\n",
    "    # the observation space (4 variables). We also include a save\n",
    "    # directory and a name so we can save the final weights of our\n",
    "    # model for verification at the end.\n",
    "    def __init__(self,lrate,n_action,dimensions,save_dir='tmp/',name='CartBoy'):\n",
    "        self.save_file = f'{save_dir}{name}.h5'\n",
    "        \n",
    "        # Here we are going to define our optimizer and our loss\n",
    "        # functions. These determine exactly how the weights of\n",
    "        # our model get updated at each learning step. We are going\n",
    "        # to use the Adam optimizer and a mean squared error loss\n",
    "        # function, which are fairly standard in this type of problem.\n",
    "        # These will be called by our agent's \"learn\" function later.\n",
    "        self.optimizer = keras.optimizers.Adam(learning_rate=lrate)\n",
    "        self.loss = keras.losses.MeanSquaredError()\n",
    "        \n",
    "        # Now we define the layers of our neural network. \n",
    "        \n",
    "        # In keras\n",
    "        # we first need to define an input layer, which is given\n",
    "        # a shape equivalent to the input dimensions. \n",
    "        Input = layers.Input(shape=dimensions)\n",
    "    \n",
    "        # Layer1 is the\n",
    "        # hidden layer which contains 64 neurons, and uses an \"relu\"\n",
    "        # activation function. Basically, each neuron will consist\n",
    "        # of 4 values that are multiplied by the input values, summed,\n",
    "        # then passed to the activation function to return a single number.\n",
    "        # Thus, we input 4 numbers, and Layer1 returns 64 numbers \n",
    "        # corresponding to each of the 64 neurons. Also, notice that\n",
    "        # we specify that the Input layer is taken as the argument\n",
    "        # of Layer1.\n",
    "        Layer1 = layers.Dense(64, activation='relu')(Input)\n",
    "        \n",
    "        # Finally, we have the output layer, which will take the 64\n",
    "        # values output by Layer1 and output a single value for each\n",
    "        # of our 3 possible actions. Later, the agent will determine\n",
    "        # the optimal action by passing the observations through this\n",
    "        # neural network and choosing the action highest value in the\n",
    "        # output layer. Note that our output layer does not employ\n",
    "        # an activation function.\n",
    "        Output = layers.Dense(n_action)(Layer1)\n",
    "        \n",
    "        # Now we put it all together\n",
    "        self.model = keras.Model(inputs=Input,outputs=Output)\n",
    "        \n",
    "    # Finally we include functions for saving and loading the model weights\n",
    "    def save_model(self):\n",
    "        self.model.save(self.save)"
   ]
  },
  {
   "cell_type": "code",
   "execution_count": null,
   "metadata": {},
   "outputs": [],
   "source": []
  }
 ],
 "metadata": {
  "kernelspec": {
   "display_name": "Python 3",
   "language": "python",
   "name": "python3"
  },
  "language_info": {
   "codemirror_mode": {
    "name": "ipython",
    "version": 3
   },
   "file_extension": ".py",
   "mimetype": "text/x-python",
   "name": "python",
   "nbconvert_exporter": "python",
   "pygments_lexer": "ipython3",
   "version": "3.7.7"
  }
 },
 "nbformat": 4,
 "nbformat_minor": 4
}
